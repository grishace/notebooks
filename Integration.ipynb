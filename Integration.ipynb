{
 "cells": [
  {
   "cell_type": "markdown",
   "metadata": {},
   "source": [
    "The purpose on this notebook is to prove correctness of the  numerical integration implemented in JavaScript.\n",
    "As input parameters we will use the analytic service result in JSON format. Please open Chrome Dev Tools while running the analytics and copy the 'data' propery of the Response into the field below between triple quotes. Please copy the value only!"
   ]
  },
  {
   "cell_type": "code",
   "execution_count": 1,
   "metadata": {
    "collapsed": false
   },
   "outputs": [],
   "source": [
    "import json\n",
    "\n",
    "data=json.loads(\"\"\"\n",
    "{\"exposure\":{\"exposureId\":\"1\",\"exposureName\":\"2\",\"exposureAmount\":3.0,\"countryCode\":\"USA\",\"currency\":\"USD\",\"asOfDate\":\"2017-01-17T00:00:00Z\",\"discountingMethod\":1,\"debtTypeCode\":null,\"debtType\":\"Other\",\"debtAboveClass\":4.0,\"debtBelowClass\":5.0,\"collateralRank\":1,\"collateralType\":\"All Assets\",\"regionalDefaultRate\":6.0,\"industry\":\"25401010\",\"industryFactor\":7.0,\"pDMetric\":\"IQ_FN_PG_SOV_1YR_PD\",\"dataSource\":null,\"periodType\":1,\"periodQuarter\":null,\"probabilityOfDefault\":8.0,\"discountRate\":null,\"timeFrame\":null,\"enableSensitivity\":false},\"output\":{\"code\":200,\"id\":null,\"lgd\":{\"default50\":0.514,\"default75\":0.757,\"default90\":0.91,\"default95\":0.955,\"default99\":1.0,\"massPoints\":[{\"point\":1.0,\"probability\":0.0014693378131378524}],\"mean\":0.47091227357797538,\"pDF\":[{\"point\":-0.8,\"probability\":0.0017088047355474497},{\"point\":-0.79099999999999993,\"probability\":0.0019026734198100135},{\"point\":-0.782,\"probability\":0.0021159948862504471},{\"point\":-0.77299999999999991,\"probability\":0.0023504251509253804},{\"point\":-0.764,\"probability\":0.0026077297742427364},{\"point\":-0.75499999999999989,\"probability\":0.0028897880621075768},{\"point\":-0.746,\"probability\":0.0031985971465440231},{\"point\":-0.73699999999999988,\"probability\":0.003536275914291362},{\"point\":-0.728,\"probability\":0.0039050687503581574},{\"point\":-0.71900000000000008,\"probability\":0.0043073490621344792},{\"point\":-0.71000000000000019,\"probability\":0.004745622548428927},{\"point\":-0.70100000000000007,\"probability\":0.0052225301767363057},{\"point\":-0.69200000000000017,\"probability\":0.0057408508311729218},{\"point\":-0.683,\"probability\":0.0063035035928600573},{\"point\":-0.67400000000000015,\"probability\":0.0069135496141115426},{\"point\":-0.665,\"probability\":0.00757419354760678},{\"point\":-0.65600000000000014,\"probability\":0.00828878449182304},{\"point\":-0.647,\"probability\":0.009060816414376097},{\"point\":-0.63800000000000012,\"probability\":0.00989392801559003},{\"point\":-0.629,\"probability\":0.010791901995597517},{\"point\":-0.62000000000000011,\"probability\":0.011758663689570207},{\"point\":-0.611,\"probability\":0.01279827903730364},{\"point\":-0.60200000000000009,\"probability\":0.013914951855334768},{\"point\":-0.593,\"probability\":0.01511302038205832},{\"point\":-0.58400000000000007,\"probability\":0.016396953068925021},{\"point\":-0.575,\"probability\":0.017771343593752421},{\"point\":-0.56600000000000006,\"probability\":0.019240905075443734},{\"point\":-0.55699999999999994,\"probability\":0.020810463472987144},{\"point\":-0.548,\"probability\":0.022484950155481194},{\"point\":-0.53899999999999992,\"probability\":0.024269393634084382},{\"point\":-0.53,\"probability\":0.026168910451200008},{\"point\":-0.52099999999999991,\"probability\":0.02818869522685713},{\"point\":-0.512,\"probability\":0.030334009867108915},{\"point\":-0.50299999999999989,\"probability\":0.032610171944312566},{\"point\":-0.49400000000000022,\"probability\":0.03502254226434779},{\"point\":-0.4850000000000001,\"probability\":0.037576511641140391},{\"point\":-0.4760000000000002,\"probability\":0.04027748690424713},{\"point\":-0.46700000000000008,\"probability\":0.043130876170689655},{\"point\":-0.45800000000000018,\"probability\":0.046142073417660238},{\"point\":-0.44900000000000007,\"probability\":0.049316442398115785},{\"point\":-0.44000000000000017,\"probability\":0.052659299946592873},{\"point\":-0.43100000000000005,\"probability\":0.056175898727767425},{\"point\":-0.42200000000000015,\"probability\":0.059871409485309231},{\"point\":-0.41300000000000003,\"probability\":0.063750902853397656},{\"point\":-0.40400000000000014,\"probability\":0.067819330797835128},{\"point\":-0.395,\"probability\":0.072081507757970315},{\"point\":-0.38600000000000012,\"probability\":0.076542091564591519},{\"point\":-0.377,\"probability\":0.081205564212530126},{\"point\":-0.3680000000000001,\"probability\":0.086076212569894811},{\"point\":-0.359,\"probability\":0.091158109108595911},{\"point\":-0.35000000000000009,\"probability\":0.096455092743103682},{\"point\":-0.34099999999999997,\"probability\":0.10197074986616841},{\"point\":-0.33200000000000007,\"probability\":0.10770839567150758},{\"point\":-0.32299999999999995,\"probability\":0.11367105585420717},{\"point\":-0.31400000000000006,\"probability\":0.11986144877977911},{\"point\":-0.30499999999999994,\"probability\":0.12628196821245519},{\"point\":-0.29600000000000004,\"probability\":0.13293466669236989},{\"point\":-0.28699999999999992,\"probability\":0.13982123964979096},{\"point\":-0.278,\"probability\":0.14694301034250151},{\"point\":-0.26899999999999991,\"probability\":0.15430091569982107},{\"point\":-0.26000000000000023,\"probability\":0.16189549315359539},{\"point\":-0.25100000000000011,\"probability\":0.16972686853280017},{\"point\":-0.24200000000000022,\"probability\":0.1777947450941994},{\"point\":-0.2330000000000001,\"probability\":0.18609839375682863},{\"point\":-0.2240000000000002,\"probability\":0.19463664460292604},{\"point\":-0.21500000000000008,\"probability\":0.20340787970238067},{\"point\":-0.20600000000000018,\"probability\":0.21241002731180939},{\"point\":-0.19700000000000006,\"probability\":0.22164055749308026},{\"point\":-0.18800000000000017,\"probability\":0.23109647918948123},{\"point\":-0.17900000000000005,\"probability\":0.24077433879086571},{\"point\":-0.17000000000000015,\"probability\":0.25067022021199875},{\"point\":-0.16100000000000003,\"probability\":0.26077974650106667},{\"point\":-0.15200000000000014,\"probability\":0.2710980829879116},{\"point\":-0.14300000000000002,\"probability\":0.28161994197408419},{\"point\":-0.13400000000000012,\"probability\":0.29233958895930656},{\"point\":-0.125,\"probability\":0.303250850391468},{\"point\":-0.1160000000000001,\"probability\":0.31434712291986755},{\"point\":-0.10699999999999998,\"probability\":0.32562138412413993},{\"point\":-0.098000000000000087,\"probability\":0.33706620468418164},{\"point\":-0.088999999999999968,\"probability\":0.3486737619494929},{\"point\":-0.080000000000000071,\"probability\":0.36043585485970148},{\"point\":-0.070999999999999952,\"probability\":0.37234392016168144},{\"point\":-0.062000000000000055,\"probability\":0.38438904986266537},{\"point\":-0.052999999999999936,\"probability\":0.39656200985309448},{\"point\":-0.044000000000000039,\"probability\":0.40885325962771163},{\"point\":-0.035000000000000142,\"probability\":0.42125297302858278},{\"point\":-0.026000000000000245,\"probability\":0.43375105992937474},{\"point\":-0.017000000000000126,\"probability\":0.44633718877633705},{\"point\":-0.00800000000000023,\"probability\":0.45900080989805248},{\"point\":0.00099999999999988987,\"probability\":0.47173117949314364},{\"point\":0.0099999999999998979,\"probability\":0.48451738420277196},{\"point\":0.018999999999999906,\"probability\":0.49734836617294165},{\"point\":0.027999999999999914,\"probability\":0.51021294851031662},{\"point\":0.036999999999999922,\"probability\":0.523099861034503},{\"point\":0.04599999999999993,\"probability\":0.53599776622949447},{\"point\":0.054999999999999938,\"probability\":0.54889528529726006},{\"point\":0.063999999999999946,\"probability\":0.561781024217222},{\"point\":0.072999999999999954,\"probability\":0.57464359971664714},{\"point\":0.081999999999999962,\"probability\":0.587471665058703},{\"point\":0.09099999999999997,\"probability\":0.60025393555712658},{\"point\":0.099999999999999978,\"probability\":0.61297921372906872},{\"point\":0.10899999999999999,\"probability\":0.62563641400069525},{\"point\":0.118,\"probability\":0.63821458688352239},{\"point\":0.127,\"probability\":0.65070294254320926},{\"point\":0.136,\"probability\":0.66309087368658159},{\"point\":0.14499999999999991,\"probability\":0.67536797769700607},{\"point\":0.15399999999999992,\"probability\":0.68752407795282788},{\"point\":0.16299999999999992,\"probability\":0.69954924426839293},{\"point\":0.17199999999999993,\"probability\":0.71143381240216941},{\"point\":0.18099999999999994,\"probability\":0.72316840258163351},{\"point\":0.18999999999999995,\"probability\":0.7347439369998402},{\"point\":0.19899999999999996,\"probability\":0.74615165624394664},{\"point\":0.20799999999999996,\"probability\":0.75738313462135431},{\"point\":0.21699999999999997,\"probability\":0.76843029435454269},{\"point\":0.22599999999999998,\"probability\":0.77928541862107781},{\"point\":0.235,\"probability\":0.78994116342062859},{\"point\":0.244,\"probability\":0.80039056825612243},{\"point\":0.25299999999999989,\"probability\":0.81062706562135678},{\"point\":0.2619999999999999,\"probability\":0.8206444892924547},{\"point\":0.27099999999999991,\"probability\":0.8304370814254779},{\"point\":0.27999999999999992,\"probability\":0.83999949846726274},{\"point\":0.28899999999999992,\"probability\":0.84932681589111936},{\"point\":0.29799999999999993,\"probability\":0.85841453177339055},{\"point\":0.30699999999999994,\"probability\":0.86725856923101841},{\"point\":0.31599999999999995,\"probability\":0.87585527774416927},{\"point\":0.32499999999999996,\"probability\":0.88420143339163382},{\"point\":0.33399999999999996,\"probability\":0.89229423803012442},{\"point\":0.34299999999999997,\"probability\":0.90013131745173725},{\"point\":0.352,\"probability\":0.9077107185567217},{\"point\":0.361,\"probability\":0.91503090558129563},{\"point\":0.36999999999999988,\"probability\":0.922090755422579},{\"point\":0.37899999999999989,\"probability\":0.9288895521047642},{\"point\":0.3879999999999999,\"probability\":0.93542698043241879},{\"point\":0.39699999999999991,\"probability\":0.94170311887832114},{\"point\":0.40599999999999992,\"probability\":0.94771843175447223},{\"point\":0.41499999999999992,\"probability\":0.95347376071589807},{\"point\":0.42399999999999993,\"probability\":0.95897031564758473},{\"point\":0.43299999999999994,\"probability\":0.9642096649853672},{\"point\":0.44199999999999995,\"probability\":0.9691937255218267},{\"point\":0.45099999999999996,\"probability\":0.97392475174827509},{\"point\":0.45999999999999996,\"probability\":0.97840532478369657},{\"point\":0.469,\"probability\":0.98263834094111246},{\"point\":0.478,\"probability\":0.98662699998124193},{\"point\":0.48699999999999988,\"probability\":0.99037479310254739},{\"point\":0.49599999999999989,\"probability\":0.99388549071581689},{\"point\":0.50499999999999989,\"probability\":0.99716313005033641},{\"point\":0.514,\"probability\":1.0002120026374708},{\"point\":0.52299999999999991,\"probability\":1.0030366417161079},{\"point\":0.532,\"probability\":1.0056418096029529},{\"point\":0.54099999999999993,\"probability\":1.0080324850690774},{\"point\":0.55,\"probability\":1.0102138507624756},{\"point\":0.55899999999999994,\"probability\":1.0121912807146474},{\"point\":0.56800000000000006,\"probability\":1.0139703279674333},{\"point\":0.577,\"probability\":1.0155567123544815},{\"point\":0.586,\"probability\":1.016956308469869},{\"point\":0.595,\"probability\":1.0181751338544702},{\"point\":0.604,\"probability\":1.0192193374287812},{\"point\":0.613,\"probability\":1.0200951881989655},{\"point\":0.622,\"probability\":1.0208090642609931},{\"point\":0.631,\"probability\":1.0213674421258421},{\"point\":0.6399999999999999,\"probability\":1.0217768863868639},{\"point\":0.649,\"probability\":1.0220440397485731},{\"point\":0.65799999999999992,\"probability\":1.0221756134343305},{\"point\":0.667,\"probability\":1.0221783779886358},{\"point\":0.67599999999999993,\"probability\":1.0220591544880475},{\"point\":0.68499999999999994,\"probability\":1.0218248061731181},{\"point\":0.694,\"probability\":1.0214822305121478},{\"point\":0.703,\"probability\":1.0210383517060728},{\"point\":0.712,\"probability\":1.0205001136423593},{\"point\":0.721,\"probability\":1.0198744733044263},{\"point\":0.73,\"probability\":1.0191683946418488},{\"point\":0.739,\"probability\":1.0183888429053938},{\"point\":0.748,\"probability\":1.0175427794498411},{\"point\":0.757,\"probability\":1.0166371570065107},{\"point\":0.766,\"probability\":1.0156789154264916},{\"point\":0.775,\"probability\":1.0146749778947082},{\"point\":0.784,\"probability\":1.0136322476142183},{\"point\":0.79299999999999993,\"probability\":1.0125576049594474},{\"point\":0.802,\"probability\":1.011457905096498},{\"point\":0.81099999999999994,\"probability\":1.0103399760681753},{\"point\":0.82,\"probability\":1.0092106173409592},{\"point\":0.829,\"probability\":1.0080765988108507},{\"point\":0.838,\"probability\":1.0069446602647758},{\"point\":0.847,\"probability\":1.0058215112940954},{\"point\":0.856,\"probability\":1.00471383165671},{\"point\":0.865,\"probability\":1.0036282720842669},{\"point\":0.874,\"probability\":1.0025714555310998},{\"point\":0.883,\"probability\":1.0015499788617064},{\"point\":0.892,\"probability\":1.0005704149738548},{\"point\":0.901,\"probability\":0.99963931535475847},{\"point\":0.91,\"probability\":0.99876321306819238},{\"point\":0.919,\"probability\":0.99794862617093782},{\"point\":0.92799999999999994,\"probability\":0.99720206155753943},{\"point\":0.93699999999999994,\"probability\":0.9965300192330222},{\"point\":0.946,\"probability\":0.99593899701397737},{\"point\":0.955,\"probability\":0.99543549565924738},{\"point\":0.964,\"probability\":0.995026024432361},{\"point\":0.973,\"probability\":0.99471710709885053},{\"point\":0.982,\"probability\":0.99451528836267289},{\"point\":0.991,\"probability\":0.99442714074709848}],\"std\":0.34161392213309494,\"expectedLossOrRecovery\":1.4127368207339262},\"loss\":{\"default50\":0.0,\"default75\":0.0,\"default90\":0.0,\"default95\":0.37899999999999989,\"default99\":0.883,\"massPoints\":[{\"point\":0.0,\"probability\":0.92},{\"point\":1.0,\"probability\":0.00011754702505102819}],\"mean\":0.037672981886238022,\"pDF\":[],\"std\":0.16017934240070383,\"expectedLossOrRecovery\":0.11301894565871407},\"message\":\"ok\",\"recovery\":{\"default50\":1.0,\"default75\":1.0,\"default90\":1.0,\"default95\":0.62100000000000011,\"default99\":0.117,\"massPoints\":[{\"point\":0.0,\"probability\":0.00011754702505102819},{\"point\":1.0,\"probability\":0.92}],\"mean\":0.962327018113762,\"pDF\":[],\"std\":0.16017934240070383,\"expectedLossOrRecovery\":2.8869810543412857},\"rgd\":{\"default50\":0.48600000000000004,\"default75\":0.24300000000000002,\"default90\":0.090000000000000011,\"default95\":0.045000000000000005,\"default99\":0.0,\"massPoints\":[{\"point\":0.0,\"probability\":0.0014693378131378524}],\"mean\":0.52908772642202462,\"pDF\":[{\"point\":0.0090000000000000011,\"probability\":0.99442714074709848},{\"point\":0.018000000000000002,\"probability\":0.99451528836267289},{\"point\":0.027,\"probability\":0.99471710709885053},{\"point\":0.036000000000000004,\"probability\":0.995026024432361},{\"point\":0.045000000000000005,\"probability\":0.99543549565924738},{\"point\":0.054,\"probability\":0.99593899701397737},{\"point\":0.063000000000000014,\"probability\":0.9965300192330222},{\"point\":0.072000000000000008,\"probability\":0.99720206155753943},{\"point\":0.081,\"probability\":0.99794862617093782},{\"point\":0.090000000000000011,\"probability\":0.99876321306819238},{\"point\":0.099,\"probability\":0.99963931535475847},{\"point\":0.108,\"probability\":1.0005704149738548},{\"point\":0.117,\"probability\":1.0015499788617064},{\"point\":0.12600000000000003,\"probability\":1.0025714555310998},{\"point\":0.135,\"probability\":1.0036282720842669},{\"point\":0.14400000000000002,\"probability\":1.00471383165671},{\"point\":0.15300000000000003,\"probability\":1.0058215112940954},{\"point\":0.162,\"probability\":1.0069446602647758},{\"point\":0.171,\"probability\":1.0080765988108507},{\"point\":0.18000000000000002,\"probability\":1.0092106173409592},{\"point\":0.189,\"probability\":1.0103399760681753},{\"point\":0.198,\"probability\":1.011457905096498},{\"point\":0.20700000000000002,\"probability\":1.0125576049594474},{\"point\":0.216,\"probability\":1.0136322476142183},{\"point\":0.225,\"probability\":1.0146749778947082},{\"point\":0.234,\"probability\":1.0156789154264916},{\"point\":0.24300000000000002,\"probability\":1.0166371570065107},{\"point\":0.25200000000000006,\"probability\":1.0175427794498411},{\"point\":0.261,\"probability\":1.0183888429053938},{\"point\":0.27,\"probability\":1.0191683946418488},{\"point\":0.279,\"probability\":1.0198744733044263},{\"point\":0.28800000000000003,\"probability\":1.0205001136423593},{\"point\":0.29700000000000004,\"probability\":1.0210383517060728},{\"point\":0.30600000000000005,\"probability\":1.0214822305121478},{\"point\":0.31500000000000006,\"probability\":1.0218248061731181},{\"point\":0.324,\"probability\":1.0220591544880475},{\"point\":0.333,\"probability\":1.0221783779886358},{\"point\":0.342,\"probability\":1.0221756134343305},{\"point\":0.35100000000000003,\"probability\":1.0220440397485731},{\"point\":0.36000000000000004,\"probability\":1.0217768863868639},{\"point\":0.36900000000000005,\"probability\":1.0213674421258421},{\"point\":0.378,\"probability\":1.0208090642609931},{\"point\":0.387,\"probability\":1.0200951881989655},{\"point\":0.396,\"probability\":1.0192193374287812},{\"point\":0.405,\"probability\":1.0181751338544702},{\"point\":0.41400000000000003,\"probability\":1.016956308469869},{\"point\":0.42300000000000004,\"probability\":1.0155567123544815},{\"point\":0.432,\"probability\":1.0139703279674333},{\"point\":0.441,\"probability\":1.0121912807146474},{\"point\":0.45,\"probability\":1.0102138507624756},{\"point\":0.459,\"probability\":1.0080324850690774},{\"point\":0.468,\"probability\":1.0056418096029529},{\"point\":0.47700000000000004,\"probability\":1.0030366417161079},{\"point\":0.48600000000000004,\"probability\":1.0002120026374708},{\"point\":0.49500000000000005,\"probability\":0.99716313005033641},{\"point\":0.50400000000000011,\"probability\":0.99388549071581689},{\"point\":0.51300000000000012,\"probability\":0.99037479310254739},{\"point\":0.522,\"probability\":0.98662699998124193},{\"point\":0.531,\"probability\":0.98263834094111246},{\"point\":0.54,\"probability\":0.97840532478369657},{\"point\":0.549,\"probability\":0.97392475174827509},{\"point\":0.558,\"probability\":0.9691937255218267},{\"point\":0.56700000000000006,\"probability\":0.9642096649853672},{\"point\":0.57600000000000007,\"probability\":0.95897031564758473},{\"point\":0.58500000000000008,\"probability\":0.95347376071589807},{\"point\":0.59400000000000008,\"probability\":0.94771843175447223},{\"point\":0.60300000000000009,\"probability\":0.94170311887832114},{\"point\":0.6120000000000001,\"probability\":0.93542698043241879},{\"point\":0.62100000000000011,\"probability\":0.9288895521047642},{\"point\":0.63000000000000012,\"probability\":0.922090755422579},{\"point\":0.639,\"probability\":0.91503090558129563},{\"point\":0.648,\"probability\":0.9077107185567217},{\"point\":0.657,\"probability\":0.90013131745173725},{\"point\":0.666,\"probability\":0.89229423803012442},{\"point\":0.675,\"probability\":0.88420143339163382},{\"point\":0.684,\"probability\":0.87585527774416927},{\"point\":0.69300000000000006,\"probability\":0.86725856923101841},{\"point\":0.70200000000000007,\"probability\":0.85841453177339055},{\"point\":0.71100000000000008,\"probability\":0.84932681589111936},{\"point\":0.72000000000000008,\"probability\":0.83999949846726274},{\"point\":0.72900000000000009,\"probability\":0.8304370814254779},{\"point\":0.7380000000000001,\"probability\":0.8206444892924547},{\"point\":0.74700000000000011,\"probability\":0.81062706562135678},{\"point\":0.756,\"probability\":0.80039056825612243},{\"point\":0.765,\"probability\":0.78994116342062859},{\"point\":0.774,\"probability\":0.77928541862107781},{\"point\":0.783,\"probability\":0.76843029435454269},{\"point\":0.792,\"probability\":0.75738313462135431},{\"point\":0.801,\"probability\":0.74615165624394664},{\"point\":0.81,\"probability\":0.7347439369998402},{\"point\":0.81900000000000006,\"probability\":0.72316840258163351},{\"point\":0.82800000000000007,\"probability\":0.71143381240216941},{\"point\":0.83700000000000008,\"probability\":0.69954924426839293},{\"point\":0.84600000000000009,\"probability\":0.68752407795282788},{\"point\":0.85500000000000009,\"probability\":0.67536797769700607},{\"point\":0.864,\"probability\":0.66309087368658159},{\"point\":0.873,\"probability\":0.65070294254320926},{\"point\":0.882,\"probability\":0.63821458688352239},{\"point\":0.891,\"probability\":0.62563641400069525},{\"point\":0.9,\"probability\":0.61297921372906872},{\"point\":0.909,\"probability\":0.60025393555712658},{\"point\":0.918,\"probability\":0.587471665058703},{\"point\":0.927,\"probability\":0.57464359971664714},{\"point\":0.936,\"probability\":0.561781024217222},{\"point\":0.94500000000000006,\"probability\":0.54889528529726006},{\"point\":0.95400000000000007,\"probability\":0.53599776622949447},{\"point\":0.96300000000000008,\"probability\":0.523099861034503},{\"point\":0.97200000000000009,\"probability\":0.51021294851031662},{\"point\":0.98100000000000009,\"probability\":0.49734836617294165},{\"point\":0.9900000000000001,\"probability\":0.48451738420277196},{\"point\":0.99900000000000011,\"probability\":0.47173117949314364},{\"point\":1.0080000000000002,\"probability\":0.45900080989805248},{\"point\":1.0170000000000001,\"probability\":0.44633718877633705},{\"point\":1.0260000000000003,\"probability\":0.43375105992937474},{\"point\":1.0350000000000001,\"probability\":0.42125297302858278},{\"point\":1.044,\"probability\":0.40885325962771163},{\"point\":1.053,\"probability\":0.39656200985309448},{\"point\":1.062,\"probability\":0.38438904986266537},{\"point\":1.071,\"probability\":0.37234392016168144},{\"point\":1.08,\"probability\":0.36043585485970148},{\"point\":1.089,\"probability\":0.3486737619494929},{\"point\":1.098,\"probability\":0.33706620468418164},{\"point\":1.107,\"probability\":0.32562138412413993},{\"point\":1.116,\"probability\":0.31434712291986755},{\"point\":1.125,\"probability\":0.303250850391468},{\"point\":1.1340000000000001,\"probability\":0.29233958895930656},{\"point\":1.143,\"probability\":0.28161994197408419},{\"point\":1.1520000000000001,\"probability\":0.2710980829879116},{\"point\":1.161,\"probability\":0.26077974650106667},{\"point\":1.1700000000000002,\"probability\":0.25067022021199875},{\"point\":1.179,\"probability\":0.24077433879086571},{\"point\":1.1880000000000002,\"probability\":0.23109647918948123},{\"point\":1.197,\"probability\":0.22164055749308026},{\"point\":1.2060000000000002,\"probability\":0.21241002731180939},{\"point\":1.215,\"probability\":0.20340787970238067},{\"point\":1.2240000000000002,\"probability\":0.19463664460292604},{\"point\":1.233,\"probability\":0.18609839375682863},{\"point\":1.2420000000000002,\"probability\":0.1777947450941994},{\"point\":1.2510000000000001,\"probability\":0.16972686853280017},{\"point\":1.2600000000000002,\"probability\":0.16189549315359539},{\"point\":1.269,\"probability\":0.15430091569982107},{\"point\":1.278,\"probability\":0.14694301034250151},{\"point\":1.287,\"probability\":0.13982123964979096},{\"point\":1.296,\"probability\":0.13293466669236989},{\"point\":1.305,\"probability\":0.12628196821245519},{\"point\":1.314,\"probability\":0.11986144877977911},{\"point\":1.323,\"probability\":0.11367105585420717},{\"point\":1.332,\"probability\":0.10770839567150758},{\"point\":1.341,\"probability\":0.10197074986616841},{\"point\":1.35,\"probability\":0.096455092743103682},{\"point\":1.359,\"probability\":0.091158109108595911},{\"point\":1.368,\"probability\":0.086076212569894811},{\"point\":1.377,\"probability\":0.081205564212530126},{\"point\":1.3860000000000001,\"probability\":0.076542091564591519},{\"point\":1.395,\"probability\":0.072081507757970315},{\"point\":1.4040000000000001,\"probability\":0.067819330797835128},{\"point\":1.413,\"probability\":0.063750902853397656},{\"point\":1.4220000000000002,\"probability\":0.059871409485309231},{\"point\":1.431,\"probability\":0.056175898727767425},{\"point\":1.4400000000000002,\"probability\":0.052659299946592873},{\"point\":1.449,\"probability\":0.049316442398115785},{\"point\":1.4580000000000002,\"probability\":0.046142073417660238},{\"point\":1.467,\"probability\":0.043130876170689655},{\"point\":1.4760000000000002,\"probability\":0.04027748690424713},{\"point\":1.485,\"probability\":0.037576511641140391},{\"point\":1.4940000000000002,\"probability\":0.03502254226434779},{\"point\":1.503,\"probability\":0.032610171944312566},{\"point\":1.512,\"probability\":0.030334009867108915},{\"point\":1.521,\"probability\":0.02818869522685713},{\"point\":1.53,\"probability\":0.026168910451200008},{\"point\":1.539,\"probability\":0.024269393634084382},{\"point\":1.548,\"probability\":0.022484950155481194},{\"point\":1.557,\"probability\":0.020810463472987144},{\"point\":1.566,\"probability\":0.019240905075443734},{\"point\":1.575,\"probability\":0.017771343593752421},{\"point\":1.584,\"probability\":0.016396953068925021},{\"point\":1.593,\"probability\":0.01511302038205832},{\"point\":1.602,\"probability\":0.013914951855334768},{\"point\":1.611,\"probability\":0.01279827903730364},{\"point\":1.62,\"probability\":0.011758663689570207},{\"point\":1.629,\"probability\":0.010791901995597517},{\"point\":1.6380000000000001,\"probability\":0.00989392801559003},{\"point\":1.647,\"probability\":0.009060816414376097},{\"point\":1.6560000000000001,\"probability\":0.00828878449182304},{\"point\":1.665,\"probability\":0.00757419354760678},{\"point\":1.6740000000000002,\"probability\":0.0069135496141115426},{\"point\":1.683,\"probability\":0.0063035035928600573},{\"point\":1.6920000000000002,\"probability\":0.0057408508311729218},{\"point\":1.701,\"probability\":0.0052225301767363057},{\"point\":1.7100000000000002,\"probability\":0.004745622548428927},{\"point\":1.719,\"probability\":0.0043073490621344792},{\"point\":1.728,\"probability\":0.0039050687503581574},{\"point\":1.7369999999999999,\"probability\":0.003536275914291362},{\"point\":1.746,\"probability\":0.0031985971465440231},{\"point\":1.755,\"probability\":0.0028897880621075768},{\"point\":1.764,\"probability\":0.0026077297742427364},{\"point\":1.773,\"probability\":0.0023504251509253804},{\"point\":1.782,\"probability\":0.0021159948862504471},{\"point\":1.791,\"probability\":0.0019026734198100135},{\"point\":1.8,\"probability\":0.0017088047355474497}],\"std\":0.34161392213309494,\"expectedLossOrRecovery\":1.5872631792660739},\"sensitivity\":null,\"status\":\"success\"},\"settings\":{\"lossStatsModel\":0},\"isScoring\":true}\n",
    "\"\"\")"
   ]
  },
  {
   "cell_type": "markdown",
   "metadata": {},
   "source": [
    "Change the value in the following cell depending on what you will be testing."
   ]
  },
  {
   "cell_type": "code",
   "execution_count": 2,
   "metadata": {
    "collapsed": true
   },
   "outputs": [],
   "source": [
    "setting = 'lgd' # 'rgd'"
   ]
  },
  {
   "cell_type": "code",
   "execution_count": 3,
   "metadata": {
    "collapsed": false
   },
   "outputs": [],
   "source": [
    "mps = data['output'][setting]['massPoints']\n",
    "pdf = data['output'][setting]['pDF']\n",
    "\n",
    "zeroP = 0.0\n",
    "oneP = 0.0\n",
    "\n",
    "if mps[0]['point'] == 0.0:\n",
    "    zeroP = mps[0]['probability']\n",
    "if mps[0]['point'] == 1.0:\n",
    "    oneP = mps[0]['probability']\n",
    "else:\n",
    "    if len(mps) > 1 and mps[1]['point'] == 1.0:\n",
    "        oneP = mps[1]['probability']\n",
    "\n",
    "pdf_x = list(map((lambda x: x['point']), pdf))\n",
    "pdf_y = list(map((lambda y: y['probability']), pdf))\n",
    "\n",
    "if min(pdf_x) > 0.0:\n",
    "    dy = pdf_y[1] - pdf_y[0]\n",
    "    pdf_x.insert(0, 0.0)\n",
    "    pdf_y.insert(0, pdf_y[0] - dy)\n",
    "    \n",
    "if max(pdf_x) < 1.0:\n",
    "    dy = pdf_y[len(pdf_y)-1] - pdf_y[len(pdf_y)-2]\n",
    "    pdf_x.append(1.0)\n",
    "    pdf_y.append(pdf_y[len(pdf_y)-1] + dy)\n",
    "\n",
    "from scipy.interpolate import interp1d\n",
    "f = interp1d(pdf_x, pdf_y, bounds_error=False)    "
   ]
  },
  {
   "cell_type": "markdown",
   "metadata": {},
   "source": [
    "The PDF domain is:"
   ]
  },
  {
   "cell_type": "code",
   "execution_count": 4,
   "metadata": {
    "collapsed": false
   },
   "outputs": [
    {
     "data": {
      "text/plain": [
       "(-0.8, 1.0)"
      ]
     },
     "execution_count": 4,
     "metadata": {},
     "output_type": "execute_result"
    }
   ],
   "source": [
    "min(pdf_x), max(pdf_x)"
   ]
  },
  {
   "cell_type": "markdown",
   "metadata": {},
   "source": [
    "Define the integration limits below. Because of nature of the function do not try to use X values outside of the domain."
   ]
  },
  {
   "cell_type": "code",
   "execution_count": 5,
   "metadata": {
    "collapsed": true
   },
   "outputs": [],
   "source": [
    "x1 = 0.0\n",
    "x2 = 0.4959"
   ]
  },
  {
   "cell_type": "code",
   "execution_count": 6,
   "metadata": {
    "collapsed": false
   },
   "outputs": [
    {
     "name": "stderr",
     "output_type": "stream",
     "text": [
      "/home/nbuser/anaconda3_410/lib/python3.5/site-packages/matplotlib/font_manager.py:273: UserWarning: Matplotlib is building the font cache using fc-list. This may take a moment.\n",
      "  warnings.warn('Matplotlib is building the font cache using fc-list. This may take a moment.')\n",
      "/home/nbuser/anaconda3_410/lib/python3.5/site-packages/matplotlib/font_manager.py:273: UserWarning: Matplotlib is building the font cache using fc-list. This may take a moment.\n",
      "  warnings.warn('Matplotlib is building the font cache using fc-list. This may take a moment.')\n"
     ]
    },
    {
     "data": {
      "image/png": "[encoded data removed]",
      "text/plain": [
       "<matplotlib.figure.Figure at 0x7faba004e320>"
      ]
     },
     "metadata": {},
     "output_type": "display_data"
    }
   ],
   "source": [
    "import matplotlib.pyplot as plt\n",
    "plt.plot(pdf_x, pdf_y)\n",
    "plt.xlabel(setting)\n",
    "plt.ylabel('PDF')\n",
    "\n",
    "y1 = f(x1)\n",
    "y2 = f(x2)\n",
    "lines = plt.plot(x1, y1, x2, y2)\n",
    "plt.setp(lines, color='r', linewidth=2.0, marker='+')\n",
    "\n",
    "import numpy as np\n",
    "xa = np.arange(x1, x2, (pdf_x[2]-pdf_x[1])/100.0);\n",
    "ya = f(xa)\n",
    "\n",
    "plt.fill_between(xa, ya, 0)\n",
    "plt.show()"
   ]
  },
  {
   "cell_type": "code",
   "execution_count": 7,
   "metadata": {
    "collapsed": false
   },
   "outputs": [
    {
     "data": {
      "text/plain": [
       "0.38653105805886262"
      ]
     },
     "execution_count": 7,
     "metadata": {},
     "output_type": "execute_result"
    }
   ],
   "source": [
    "import scipy.integrate as integrate\n",
    "\n",
    "res = integrate.trapz(ya, xa)\n",
    "\n",
    "ixa = min(xa)\n",
    "mxa = max(xa)\n",
    "\n",
    "if ixa <= 0.0 and mxa > 0.0:\n",
    "    res += zeroP\n",
    "if ixa < 1.0 and mxa >= 1.0:\n",
    "    res += oneP\n",
    "\n",
    "res"
   ]
  },
  {
   "cell_type": "markdown",
   "metadata": {},
   "source": [
    "Just to be sure the integration works as expected. The following result should be very close to 1.0."
   ]
  },
  {
   "cell_type": "code",
   "execution_count": 8,
   "metadata": {
    "collapsed": false
   },
   "outputs": [
    {
     "data": {
      "text/plain": [
       "1.000002942797259"
      ]
     },
     "execution_count": 8,
     "metadata": {},
     "output_type": "execute_result"
    }
   ],
   "source": [
    "integrate.trapz(pdf_y, pdf_x) + zeroP + oneP"
   ]
  }
 ],
 "metadata": {
  "kernelspec": {
   "display_name": "Python 3",
   "language": "python",
   "name": "python3"
  },
  "language_info": {
   "codemirror_mode": {
    "name": "ipython",
    "version": 3
   },
   "file_extension": ".py",
   "mimetype": "text/x-python",
   "name": "python",
   "nbconvert_exporter": "python",
   "pygments_lexer": "ipython3",
   "version": "3.5.1"
  }
 },
 "nbformat": 4,
 "nbformat_minor": 2
}
